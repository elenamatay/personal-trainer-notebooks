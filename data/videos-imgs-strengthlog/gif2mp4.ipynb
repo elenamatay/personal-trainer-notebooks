{
 "cells": [
  {
   "cell_type": "code",
   "execution_count": 14,
   "id": "047d4b68-b187-4759-986e-9ff294ca6e85",
   "metadata": {},
   "outputs": [
    {
     "name": "stdout",
     "output_type": "stream",
     "text": [
      "\u001b[33mWARNING: Ignoring invalid distribution -oogle-api-core (/opt/conda/lib/python3.10/site-packages)\u001b[0m\u001b[33m\n",
      "\u001b[0m\u001b[33mWARNING: Ignoring invalid distribution -oogle-auth (/opt/conda/lib/python3.10/site-packages)\u001b[0m\u001b[33m\n",
      "\u001b[0m\u001b[33mWARNING: Ignoring invalid distribution -oogle-cloud-aiplatform (/opt/conda/lib/python3.10/site-packages)\u001b[0m\u001b[33m\n",
      "\u001b[0m\u001b[33mWARNING: Ignoring invalid distribution -rpcio (/opt/conda/lib/python3.10/site-packages)\u001b[0m\u001b[33m\n",
      "\u001b[0m\u001b[33mWARNING: Ignoring invalid distribution -oogle-api-core (/opt/conda/lib/python3.10/site-packages)\u001b[0m\u001b[33m\n",
      "\u001b[0m\u001b[33mWARNING: Ignoring invalid distribution -oogle-auth (/opt/conda/lib/python3.10/site-packages)\u001b[0m\u001b[33m\n",
      "\u001b[0m\u001b[33mWARNING: Ignoring invalid distribution -oogle-cloud-aiplatform (/opt/conda/lib/python3.10/site-packages)\u001b[0m\u001b[33m\n",
      "\u001b[0m\u001b[33mWARNING: Ignoring invalid distribution -rpcio (/opt/conda/lib/python3.10/site-packages)\u001b[0m\u001b[33m\n",
      "\u001b[0m"
     ]
    }
   ],
   "source": [
    "!pip install --q --upgrade moviepy"
   ]
  },
  {
   "cell_type": "code",
   "execution_count": null,
   "id": "0c95ea68-4e70-4441-84f7-c3f0eb877c98",
   "metadata": {},
   "outputs": [
    {
     "name": "stdout",
     "output_type": "stream",
     "text": [
      "Moviepy - Building video band-assisted_bench_press.mp4.\n",
      "Moviepy - Writing video band-assisted_bench_press.mp4\n",
      "\n"
     ]
    },
    {
     "name": "stderr",
     "output_type": "stream",
     "text": [
      "                                                   \r"
     ]
    },
    {
     "name": "stdout",
     "output_type": "stream",
     "text": [
      "Moviepy - Done !\n",
      "Moviepy - video ready band-assisted_bench_press.mp4\n"
     ]
    }
   ],
   "source": [
    "import imageio\n",
    "from moviepy.editor import ImageSequenceClip\n",
    "\n",
    "# Path to your GIF\n",
    "gif_path = 'band-assisted_\n",
    "\n",
    "# Read GIF\n",
    "reader = imageio.get_reader(gif_path)\n",
    "fps = metadata.get('fps', 24)  # Use 24 as default FPS if 'fps' key is not found\n",
    "frames = [frame for frame in reader]\n",
    "\n",
    "# Convert frames to video\n",
    "clip = ImageSequenceClip(frames, fps=fps)\n",
    "clip.write_videofile(output_path)\n",
    "\n",
    "# Close the clip\n",
    "clip.close()bench_press.gif'\n",
    "output_path = 'band-assisted_bench_press.mp4'"
   ]
  }
 ],
 "metadata": {
  "environment": {
   "kernel": "conda-root-py",
   "name": "workbench-notebooks.m111",
   "type": "gcloud",
   "uri": "gcr.io/deeplearning-platform-release/workbench-notebooks:m111"
  },
  "kernelspec": {
   "display_name": "Python 3",
   "language": "python",
   "name": "conda-root-py"
  },
  "language_info": {
   "codemirror_mode": {
    "name": "ipython",
    "version": 3
   },
   "file_extension": ".py",
   "mimetype": "text/x-python",
   "name": "python",
   "nbconvert_exporter": "python",
   "pygments_lexer": "ipython3",
   "version": "3.10.12"
  }
 },
 "nbformat": 4,
 "nbformat_minor": 5
}
